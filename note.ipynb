{
 "cells": [
  {
   "cell_type": "code",
   "execution_count": 1,
   "metadata": {},
   "outputs": [
    {
     "name": "stderr",
     "output_type": "stream",
     "text": [
      "c:\\Users\\user\\miniconda3\\lib\\site-packages\\numpy\\_distributor_init.py:30: UserWarning: loaded more than 1 DLL from .libs:\n",
      "c:\\Users\\user\\miniconda3\\lib\\site-packages\\numpy\\.libs\\libopenblas.FB5AE2TYXYH2IJRDKGDGQ3XBKLKTF43H.gfortran-win_amd64.dll\n",
      "c:\\Users\\user\\miniconda3\\lib\\site-packages\\numpy\\.libs\\libopenblas64__v0.3.21-gcc_10_3_0.dll\n",
      "  warnings.warn(\"loaded more than 1 DLL from .libs:\"\n"
     ]
    }
   ],
   "source": [
    "import pandas as pd\n",
    "import os\n",
    "import numpy as np\n",
    "\n",
    "# 음악 데이터를 포함한 데이터프레임 예시\n",
    "\n",
    "data_path = '../data/'\n",
    "music_data = pd.read_csv(os.path.join(data_path, 'last_data.csv'))"
   ]
  },
  {
   "cell_type": "code",
   "execution_count": 2,
   "metadata": {},
   "outputs": [],
   "source": [
    "labels = ['admiration', 'anger', 'approval', 'caring', 'confusion',\n",
    "        'curiosity', 'desire', 'disappointment', 'disapproval', 'embarrassment',\n",
    "        'excitement', 'fear', 'gratitude', 'joy', 'love', 'optimism',\n",
    "        'pride', 'realization', 'relief', 'sadness', 'neutral']\n",
    "\n",
    "result = music_data.groupby(['title', 'artist'], as_index=False)[labels].agg('sum')"
   ]
  },
  {
   "cell_type": "code",
   "execution_count": null,
   "metadata": {},
   "outputs": [],
   "source": [
    "# result['joy'] = result['joy'] + result['excitement']\n",
    "# result['sadness'] = result['sadness'] + result['confusion'] + result['disappointment']\n",
    "# result['anger'] = result['anger'] + result['']"
   ]
  },
  {
   "cell_type": "code",
   "execution_count": 70,
   "metadata": {},
   "outputs": [],
   "source": [
    "import MySQLdb\n",
    "from sqlalchemy import create_engine\n",
    "from mysql_config import USER, PASSWORD, HOST, PORT, DB\n",
    "\n",
    "engine = create_engine(\n",
    "    f'mysql+mysqldb://{USER}:{PASSWORD}@{HOST}:{PORT}/{DB}',\n",
    ")\n",
    "conn = engine.connect()"
   ]
  },
  {
   "cell_type": "code",
   "execution_count": 71,
   "metadata": {},
   "outputs": [
    {
     "data": {
      "text/plain": [
       "98106"
      ]
     },
     "execution_count": 71,
     "metadata": {},
     "output_type": "execute_result"
    }
   ],
   "source": [
    "new_result.to_sql(name='musics', con=engine, if_exists='append', index=False)"
   ]
  },
  {
   "cell_type": "code",
   "execution_count": 33,
   "metadata": {},
   "outputs": [],
   "source": [
    "music_only = result.drop(columns=['title', 'artist'], axis=1)\n",
    "weight = []\n",
    "for s in range(len(music_only)):\n",
    "    mweight = []\n",
    "    for i in range(21):\n",
    "        mweight.append(round(music_only.iloc[s,i], 4))\n",
    "    weight.append(mweight)"
   ]
  },
  {
   "cell_type": "code",
   "execution_count": 34,
   "metadata": {},
   "outputs": [
    {
     "name": "stderr",
     "output_type": "stream",
     "text": [
      "C:\\Users\\user\\AppData\\Local\\Temp\\ipykernel_6684\\2924299732.py:2: SettingWithCopyWarning: \n",
      "A value is trying to be set on a copy of a slice from a DataFrame.\n",
      "Try using .loc[row_indexer,col_indexer] = value instead\n",
      "\n",
      "See the caveats in the documentation: https://pandas.pydata.org/pandas-docs/stable/user_guide/indexing.html#returning-a-view-versus-a-copy\n",
      "  new_result['weight'] = weight\n"
     ]
    },
    {
     "data": {
      "text/html": [
       "<div>\n",
       "<style scoped>\n",
       "    .dataframe tbody tr th:only-of-type {\n",
       "        vertical-align: middle;\n",
       "    }\n",
       "\n",
       "    .dataframe tbody tr th {\n",
       "        vertical-align: top;\n",
       "    }\n",
       "\n",
       "    .dataframe thead th {\n",
       "        text-align: right;\n",
       "    }\n",
       "</style>\n",
       "<table border=\"1\" class=\"dataframe\">\n",
       "  <thead>\n",
       "    <tr style=\"text-align: right;\">\n",
       "      <th></th>\n",
       "      <th>title</th>\n",
       "      <th>artist</th>\n",
       "      <th>weight</th>\n",
       "    </tr>\n",
       "  </thead>\n",
       "  <tbody>\n",
       "    <tr>\n",
       "      <th>0</th>\n",
       "      <td>!</td>\n",
       "      <td>AVOKID(에이보키드)</td>\n",
       "      <td>[0.7454, 0.0018, 0.192, 0.0287, 0.0028, 0.0008...</td>\n",
       "    </tr>\n",
       "    <tr>\n",
       "      <th>1</th>\n",
       "      <td>!!!!Lips!!!! (Feat. 우원재)</td>\n",
       "      <td>쿠기 (Coogie)</td>\n",
       "      <td>[0.1976, 0.0019, 0.0197, 0.0134, 0.0015, 0.003...</td>\n",
       "    </tr>\n",
       "    <tr>\n",
       "      <th>2</th>\n",
       "      <td>\"99\"</td>\n",
       "      <td>Barns Courtney</td>\n",
       "      <td>[0.0254, 0.0097, 0.0401, 0.2117, 0.0698, 0.327...</td>\n",
       "    </tr>\n",
       "    <tr>\n",
       "      <th>3</th>\n",
       "      <td>\"Akst, Young : Dinah\"</td>\n",
       "      <td>Joe Venuti Blue Four</td>\n",
       "      <td>[0.3201, 0.0095, 0.1539, 0.5575, 0.0656, 0.002...</td>\n",
       "    </tr>\n",
       "    <tr>\n",
       "      <th>4</th>\n",
       "      <td>\"Bach : Cello Suite No. 1 In G Major, Bwv 1007...</td>\n",
       "      <td>Karine Georgian(카리나 게오르기안)</td>\n",
       "      <td>[0.6167, 0.0033, 0.3741, 0.2404, 0.0026, 0.000...</td>\n",
       "    </tr>\n",
       "  </tbody>\n",
       "</table>\n",
       "</div>"
      ],
      "text/plain": [
       "                                               title   \n",
       "0                                                  !  \\\n",
       "1                           !!!!Lips!!!! (Feat. 우원재)   \n",
       "2                                               \"99\"   \n",
       "3                             \"Akst, Young : Dinah\"    \n",
       "4  \"Bach : Cello Suite No. 1 In G Major, Bwv 1007...   \n",
       "\n",
       "                       artist   \n",
       "0               AVOKID(에이보키드)  \\\n",
       "1                 쿠기 (Coogie)   \n",
       "2              Barns Courtney   \n",
       "3        Joe Venuti Blue Four   \n",
       "4  Karine Georgian(카리나 게오르기안)   \n",
       "\n",
       "                                              weight  \n",
       "0  [0.7454, 0.0018, 0.192, 0.0287, 0.0028, 0.0008...  \n",
       "1  [0.1976, 0.0019, 0.0197, 0.0134, 0.0015, 0.003...  \n",
       "2  [0.0254, 0.0097, 0.0401, 0.2117, 0.0698, 0.327...  \n",
       "3  [0.3201, 0.0095, 0.1539, 0.5575, 0.0656, 0.002...  \n",
       "4  [0.6167, 0.0033, 0.3741, 0.2404, 0.0026, 0.000...  "
      ]
     },
     "execution_count": 34,
     "metadata": {},
     "output_type": "execute_result"
    }
   ],
   "source": [
    "new_result = result[['title', 'artist']]\n",
    "new_result['weight'] = weight\n",
    "new_result.head()"
   ]
  },
  {
   "cell_type": "code",
   "execution_count": 36,
   "metadata": {},
   "outputs": [
    {
     "name": "stderr",
     "output_type": "stream",
     "text": [
      "C:\\Users\\user\\AppData\\Local\\Temp\\ipykernel_6684\\801717268.py:1: SettingWithCopyWarning: \n",
      "A value is trying to be set on a copy of a slice from a DataFrame.\n",
      "Try using .loc[row_indexer,col_indexer] = value instead\n",
      "\n",
      "See the caveats in the documentation: https://pandas.pydata.org/pandas-docs/stable/user_guide/indexing.html#returning-a-view-versus-a-copy\n",
      "  new_result['weight'] = new_result['weight'].apply(lambda x: str(x))\n"
     ]
    }
   ],
   "source": [
    "new_result['weight'] = new_result['weight'].apply(lambda x: str(x))"
   ]
  },
  {
   "cell_type": "code",
   "execution_count": 39,
   "metadata": {},
   "outputs": [
    {
     "name": "stderr",
     "output_type": "stream",
     "text": [
      "C:\\Users\\user\\AppData\\Local\\Temp\\ipykernel_6684\\594365859.py:1: SettingWithCopyWarning: \n",
      "A value is trying to be set on a copy of a slice from a DataFrame.\n",
      "Try using .loc[row_indexer,col_indexer] = value instead\n",
      "\n",
      "See the caveats in the documentation: https://pandas.pydata.org/pandas-docs/stable/user_guide/indexing.html#returning-a-view-versus-a-copy\n",
      "  new_result['weight_labels'] = pd.Series()\n"
     ]
    }
   ],
   "source": [
    "new_result['weight_labels'] = pd.Series()"
   ]
  },
  {
   "cell_type": "code",
   "execution_count": 42,
   "metadata": {},
   "outputs": [],
   "source": [
    "labels = ['admiration','anger','approval','caring','confusion',\n",
    "          'curiosity','desire','disappointment','disapproval','embarrassment',\n",
    "          'excitement','fear','gratitude','joy','love','optimism',\n",
    "          'pride','realization','relief','sadness','neutral']"
   ]
  },
  {
   "cell_type": "code",
   "execution_count": 43,
   "metadata": {},
   "outputs": [],
   "source": [
    "labels = str(labels)"
   ]
  },
  {
   "cell_type": "code",
   "execution_count": 45,
   "metadata": {},
   "outputs": [],
   "source": [
    "new_result = new_result.fillna(labels)"
   ]
  },
  {
   "cell_type": "code",
   "execution_count": 57,
   "metadata": {},
   "outputs": [],
   "source": [
    "ids = pd.Series(new_result.index)"
   ]
  },
  {
   "cell_type": "code",
   "execution_count": 60,
   "metadata": {},
   "outputs": [],
   "source": [
    "ids = ids+1"
   ]
  },
  {
   "cell_type": "code",
   "execution_count": 62,
   "metadata": {},
   "outputs": [],
   "source": [
    "ids.name = id"
   ]
  },
  {
   "cell_type": "code",
   "execution_count": 66,
   "metadata": {},
   "outputs": [],
   "source": [
    "new_result = pd.concat([ids,new_result], axis=1)"
   ]
  },
  {
   "cell_type": "code",
   "execution_count": 67,
   "metadata": {},
   "outputs": [],
   "source": [
    "new_result.columns = ['id', 'name', 'singer', 'weight', 'weight_labels']"
   ]
  },
  {
   "cell_type": "code",
   "execution_count": 68,
   "metadata": {},
   "outputs": [
    {
     "data": {
      "text/html": [
       "<div>\n",
       "<style scoped>\n",
       "    .dataframe tbody tr th:only-of-type {\n",
       "        vertical-align: middle;\n",
       "    }\n",
       "\n",
       "    .dataframe tbody tr th {\n",
       "        vertical-align: top;\n",
       "    }\n",
       "\n",
       "    .dataframe thead th {\n",
       "        text-align: right;\n",
       "    }\n",
       "</style>\n",
       "<table border=\"1\" class=\"dataframe\">\n",
       "  <thead>\n",
       "    <tr style=\"text-align: right;\">\n",
       "      <th></th>\n",
       "      <th>id</th>\n",
       "      <th>name</th>\n",
       "      <th>singer</th>\n",
       "      <th>weight</th>\n",
       "      <th>weight_labels</th>\n",
       "    </tr>\n",
       "  </thead>\n",
       "  <tbody>\n",
       "    <tr>\n",
       "      <th>0</th>\n",
       "      <td>1</td>\n",
       "      <td>!</td>\n",
       "      <td>AVOKID(에이보키드)</td>\n",
       "      <td>[0.7454, 0.0018, 0.192, 0.0287, 0.0028, 0.0008...</td>\n",
       "      <td>['admiration', 'anger', 'approval', 'caring', ...</td>\n",
       "    </tr>\n",
       "    <tr>\n",
       "      <th>1</th>\n",
       "      <td>2</td>\n",
       "      <td>!!!!Lips!!!! (Feat. 우원재)</td>\n",
       "      <td>쿠기 (Coogie)</td>\n",
       "      <td>[0.1976, 0.0019, 0.0197, 0.0134, 0.0015, 0.003...</td>\n",
       "      <td>['admiration', 'anger', 'approval', 'caring', ...</td>\n",
       "    </tr>\n",
       "    <tr>\n",
       "      <th>2</th>\n",
       "      <td>3</td>\n",
       "      <td>\"99\"</td>\n",
       "      <td>Barns Courtney</td>\n",
       "      <td>[0.0254, 0.0097, 0.0401, 0.2117, 0.0698, 0.327...</td>\n",
       "      <td>['admiration', 'anger', 'approval', 'caring', ...</td>\n",
       "    </tr>\n",
       "    <tr>\n",
       "      <th>3</th>\n",
       "      <td>4</td>\n",
       "      <td>\"Akst, Young : Dinah\"</td>\n",
       "      <td>Joe Venuti Blue Four</td>\n",
       "      <td>[0.3201, 0.0095, 0.1539, 0.5575, 0.0656, 0.002...</td>\n",
       "      <td>['admiration', 'anger', 'approval', 'caring', ...</td>\n",
       "    </tr>\n",
       "    <tr>\n",
       "      <th>4</th>\n",
       "      <td>5</td>\n",
       "      <td>\"Bach : Cello Suite No. 1 In G Major, Bwv 1007...</td>\n",
       "      <td>Karine Georgian(카리나 게오르기안)</td>\n",
       "      <td>[0.6167, 0.0033, 0.3741, 0.2404, 0.0026, 0.000...</td>\n",
       "      <td>['admiration', 'anger', 'approval', 'caring', ...</td>\n",
       "    </tr>\n",
       "    <tr>\n",
       "      <th>...</th>\n",
       "      <td>...</td>\n",
       "      <td>...</td>\n",
       "      <td>...</td>\n",
       "      <td>...</td>\n",
       "      <td>...</td>\n",
       "    </tr>\n",
       "    <tr>\n",
       "      <th>98101</th>\n",
       "      <td>98102</td>\n",
       "      <td>戀人へ / Koibitoe (연인에게)</td>\n",
       "      <td>Lamp(램프)</td>\n",
       "      <td>[0.0038, 0.0105, 0.0014, 0.0012, 0.0091, 0.006...</td>\n",
       "      <td>['admiration', 'anger', 'approval', 'caring', ...</td>\n",
       "    </tr>\n",
       "    <tr>\n",
       "      <th>98102</th>\n",
       "      <td>98103</td>\n",
       "      <td>？!. (feat. DJ Pumkin)</td>\n",
       "      <td>재지팩트(Jazzyfact)</td>\n",
       "      <td>[0.465, 0.0165, 0.1327, 0.7763, 0.0871, 0.1639...</td>\n",
       "      <td>['admiration', 'anger', 'approval', 'caring', ...</td>\n",
       "    </tr>\n",
       "    <tr>\n",
       "      <th>98103</th>\n",
       "      <td>98104</td>\n",
       "      <td>Ｂｉｎａｒｙ</td>\n",
       "      <td>거짓말과 카멜레온(嘘とカメレオン)</td>\n",
       "      <td>[0.4954, 0.0299, 0.0666, 0.0743, 0.3005, 0.009...</td>\n",
       "      <td>['admiration', 'anger', 'approval', 'caring', ...</td>\n",
       "    </tr>\n",
       "    <tr>\n",
       "      <th>98104</th>\n",
       "      <td>98105</td>\n",
       "      <td>Ｃａｎ ｙｏｕ ｃｅｌｅｂｒａｔｅ？</td>\n",
       "      <td>Gan Jianmin</td>\n",
       "      <td>[0.9948, 0.0025, 0.0765, 0.0045, 0.0022, 0.000...</td>\n",
       "      <td>['admiration', 'anger', 'approval', 'caring', ...</td>\n",
       "    </tr>\n",
       "    <tr>\n",
       "      <th>98105</th>\n",
       "      <td>98106</td>\n",
       "      <td>Ｓｃｏｔｃｈ ｍｉｓｔ</td>\n",
       "      <td>Junko Makiyama New Project</td>\n",
       "      <td>[0.0336, 0.0035, 0.0524, 0.2135, 0.0744, 0.001...</td>\n",
       "      <td>['admiration', 'anger', 'approval', 'caring', ...</td>\n",
       "    </tr>\n",
       "  </tbody>\n",
       "</table>\n",
       "<p>98106 rows × 5 columns</p>\n",
       "</div>"
      ],
      "text/plain": [
       "          id                                               name   \n",
       "0          1                                                  !  \\\n",
       "1          2                           !!!!Lips!!!! (Feat. 우원재)   \n",
       "2          3                                               \"99\"   \n",
       "3          4                             \"Akst, Young : Dinah\"    \n",
       "4          5  \"Bach : Cello Suite No. 1 In G Major, Bwv 1007...   \n",
       "...      ...                                                ...   \n",
       "98101  98102                              戀人へ / Koibitoe (연인에게)   \n",
       "98102  98103                              ？!. (feat. DJ Pumkin)   \n",
       "98103  98104                                             Ｂｉｎａｒｙ   \n",
       "98104  98105                                 Ｃａｎ ｙｏｕ ｃｅｌｅｂｒａｔｅ？   \n",
       "98105  98106                                        Ｓｃｏｔｃｈ ｍｉｓｔ   \n",
       "\n",
       "                           singer   \n",
       "0                   AVOKID(에이보키드)  \\\n",
       "1                     쿠기 (Coogie)   \n",
       "2                  Barns Courtney   \n",
       "3            Joe Venuti Blue Four   \n",
       "4      Karine Georgian(카리나 게오르기안)   \n",
       "...                           ...   \n",
       "98101                    Lamp(램프)   \n",
       "98102             재지팩트(Jazzyfact)   \n",
       "98103          거짓말과 카멜레온(嘘とカメレオン)   \n",
       "98104                 Gan Jianmin   \n",
       "98105  Junko Makiyama New Project   \n",
       "\n",
       "                                                  weight   \n",
       "0      [0.7454, 0.0018, 0.192, 0.0287, 0.0028, 0.0008...  \\\n",
       "1      [0.1976, 0.0019, 0.0197, 0.0134, 0.0015, 0.003...   \n",
       "2      [0.0254, 0.0097, 0.0401, 0.2117, 0.0698, 0.327...   \n",
       "3      [0.3201, 0.0095, 0.1539, 0.5575, 0.0656, 0.002...   \n",
       "4      [0.6167, 0.0033, 0.3741, 0.2404, 0.0026, 0.000...   \n",
       "...                                                  ...   \n",
       "98101  [0.0038, 0.0105, 0.0014, 0.0012, 0.0091, 0.006...   \n",
       "98102  [0.465, 0.0165, 0.1327, 0.7763, 0.0871, 0.1639...   \n",
       "98103  [0.4954, 0.0299, 0.0666, 0.0743, 0.3005, 0.009...   \n",
       "98104  [0.9948, 0.0025, 0.0765, 0.0045, 0.0022, 0.000...   \n",
       "98105  [0.0336, 0.0035, 0.0524, 0.2135, 0.0744, 0.001...   \n",
       "\n",
       "                                           weight_labels  \n",
       "0      ['admiration', 'anger', 'approval', 'caring', ...  \n",
       "1      ['admiration', 'anger', 'approval', 'caring', ...  \n",
       "2      ['admiration', 'anger', 'approval', 'caring', ...  \n",
       "3      ['admiration', 'anger', 'approval', 'caring', ...  \n",
       "4      ['admiration', 'anger', 'approval', 'caring', ...  \n",
       "...                                                  ...  \n",
       "98101  ['admiration', 'anger', 'approval', 'caring', ...  \n",
       "98102  ['admiration', 'anger', 'approval', 'caring', ...  \n",
       "98103  ['admiration', 'anger', 'approval', 'caring', ...  \n",
       "98104  ['admiration', 'anger', 'approval', 'caring', ...  \n",
       "98105  ['admiration', 'anger', 'approval', 'caring', ...  \n",
       "\n",
       "[98106 rows x 5 columns]"
      ]
     },
     "execution_count": 68,
     "metadata": {},
     "output_type": "execute_result"
    }
   ],
   "source": [
    "new_result"
   ]
  },
  {
   "cell_type": "code",
   "execution_count": 69,
   "metadata": {},
   "outputs": [],
   "source": [
    "new_result.to_csv(os.path.join(data_path, 'new_music.csv'), index=False)"
   ]
  }
 ],
 "metadata": {
  "kernelspec": {
   "display_name": "Python 3",
   "language": "python",
   "name": "python3"
  },
  "language_info": {
   "codemirror_mode": {
    "name": "ipython",
    "version": 3
   },
   "file_extension": ".py",
   "mimetype": "text/x-python",
   "name": "python",
   "nbconvert_exporter": "python",
   "pygments_lexer": "ipython3",
   "version": "3.10.9"
  },
  "orig_nbformat": 4
 },
 "nbformat": 4,
 "nbformat_minor": 2
}
